{
 "cells": [
  {
   "cell_type": "markdown",
   "id": "defbd256-c5ee-43b8-8b9f-d037293cfe5c",
   "metadata": {},
   "source": [
    "# Example Usage of Code\n",
    "The purpose of this notebook is to familiarize users with the code contained in this folder."
   ]
  },
  {
   "cell_type": "markdown",
   "id": "5ce7bf0f-a548-4d3c-bcf0-a3ca1beec530",
   "metadata": {},
   "source": [
    "### Project path setup (add source directory to Python path)"
   ]
  },
  {
   "cell_type": "code",
   "execution_count": null,
   "id": "1056a860-04d0-468c-9558-c37559c292b9",
   "metadata": {},
   "outputs": [],
   "source": [
    "import sys\n",
    "sys.path.append(r\"C:\\Users\\carol\\OneDrive\\Desktop\\2D Color MPI\")\n",
    "from scripts import colorize\n",
    "from scripts import utility"
   ]
  },
  {
   "cell_type": "markdown",
   "id": "25fed641-c92e-447f-bfc9-e6a3283fbe1a",
   "metadata": {},
   "source": [
    "## Imports"
   ]
  },
  {
   "cell_type": "code",
   "execution_count": null,
   "id": "1eb05a24-1f83-40b5-84da-7047cd1a8601",
   "metadata": {},
   "outputs": [],
   "source": []
  },
  {
   "cell_type": "code",
   "execution_count": null,
   "id": "83970c15-d5b6-4f59-990a-f4df8ff06f41",
   "metadata": {},
   "outputs": [],
   "source": []
  }
 ],
 "metadata": {
  "kernelspec": {
   "display_name": "Python 3 (ipykernel)",
   "language": "python",
   "name": "python3"
  },
  "language_info": {
   "codemirror_mode": {
    "name": "ipython",
    "version": 3
   },
   "file_extension": ".py",
   "mimetype": "text/x-python",
   "name": "python",
   "nbconvert_exporter": "python",
   "pygments_lexer": "ipython3",
   "version": "3.10.16"
  }
 },
 "nbformat": 4,
 "nbformat_minor": 5
}
